{
 "cells": [
  {
   "cell_type": "markdown",
   "metadata": {},
   "source": [
    "### Simple Linear Regression in Depth\n",
    "\n",
    "<img src='./Images/IMG1.jpg'>\n",
    "\n",
    "<img src='./Images/IMG2.jpg'>\n",
    "\n",
    "<img src='./Images/IMG2.jpg'>\n",
    "\n",
    "<img src='./Images/IMG3.jpg'>\n",
    "\n",
    "<img src='./Images/IMG4.jpg'>\n",
    "\n",
    "<img src='./Images/IMG5.jpg'>\n",
    "\n",
    "<img src='./Images/IMG6.jpg'>\n",
    "\n",
    "<img src='./Images/IMG7.jpg'>\n",
    "\n",
    "<img src='./Images/IMG8.jpg'>\n",
    "\n",
    "<img src='./Images/IMG9.jpg'>\n",
    "\n",
    "<img src='./Images/IMG10.jpg'>\n",
    "\n",
    "<img src='./Images/IMG11.jpg'>\n",
    "\n",
    "<img src='./Images/IMG12.jpg'>\n"
   ]
  }
 ],
 "metadata": {
  "language_info": {
   "name": "python"
  }
 },
 "nbformat": 4,
 "nbformat_minor": 2
}
