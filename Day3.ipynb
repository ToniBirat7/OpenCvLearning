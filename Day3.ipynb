{
 "cells": [
  {
   "cell_type": "markdown",
   "metadata": {},
   "source": [
    "## Geometric Transformations of Images\n",
    "\n",
    "[Link](https://docs.opencv.org/4.x/da/d6e/tutorial_py_geometric_transformations.html)\n",
    "\n",
    "### Transformation\n",
    "\n",
    "OpenCv provides two functions with which we can perform all kinds of transformation in the images i.e.\n",
    "\n",
    "#### Transformation Functions\n",
    "\n",
    "**`cv.warpAffine`**: It takes `2x3` matrix\n",
    "\n",
    "**`cv.warpPerspective`**: It takes `3x3` matrix\n",
    "\n",
    "### Scaling \n",
    "\n",
    "Scaling is just resizing of the image.\n",
    "\n",
    "#### Scaling Function\n",
    "\n",
    "**`cv.resize`** : For resizing the image\n",
    "\n",
    "**Different Interpolation Method**\n",
    "\n",
    "  - **`cv.INTER_AREA`** : For shrinking\n",
    "  - **`cv.INTER_CUBIC`** : For zooming 16 neighbours pixels average better.\n",
    "  - **`cv.INTER_LINEAR`** : For zooming only 4 neighbours pixels average\n",
    "\n",
    "### Translation\n",
    "\n",
    "Translation is the shifting of an object's location. If you know the shift in the (x,y) direction and let it be (*t<sub>x</sub>,t<sub>y</sub>*), you can create the transformation matrix as follows:\n",
    "\n",
    "<img src='./Notes_Images/Mat.png' width=200 height=200>\n"
   ]
  },
  {
   "cell_type": "markdown",
   "metadata": {},
   "source": [
    "### Scaling\n"
   ]
  },
  {
   "cell_type": "code",
   "execution_count": 73,
   "metadata": {},
   "outputs": [],
   "source": [
    "import numpy as np\n",
    "import cv2 as cv\n",
    "cv.setUseOptimized(True)"
   ]
  },
  {
   "cell_type": "code",
   "execution_count": 55,
   "metadata": {},
   "outputs": [],
   "source": [
    "img = cv.imread('roi.jpg')\n",
    "assert img is not None, \"file could not be read, check with os.path.exists()\"\n",
    "\n",
    "res = cv.resize(img,None,fx=2,fy=2, interpolation=cv.INTER_CUBIC) # Two times width, height\n",
    "\n",
    "cv.imshow(\"Non Scaled\", img)\n",
    "cv.imshow(\"Scaled\",res)\n",
    "cv.waitKey(0)\n",
    "cv.destroyAllWindows()"
   ]
  },
  {
   "cell_type": "markdown",
   "metadata": {},
   "source": [
    "### Translation using 2x3 Transformation Matrix\n",
    "\n",
    "<img src='./Notes_Images/translate1.png' width=600 height=600>\n",
    "<img src='./Notes_Images/translate2.png' width=600 height=600>\n",
    "<img src='./Notes_Images/translate3.png' width=600 height=600>"
   ]
  },
  {
   "cell_type": "code",
   "execution_count": 56,
   "metadata": {},
   "outputs": [],
   "source": [
    "# Translate using 2x3 \n",
    "\n",
    "import numpy as np\n",
    "import cv2 as cv\n",
    " \n",
    "img = cv.imread('roi.jpg', cv.IMREAD_GRAYSCALE)\n",
    "assert img is not None, \"file could not be read, check with os.path.exists()\"\n",
    "rows,cols = img.shape\n",
    " \n",
    "M = np.float32([[0,1,1],[1,0,1]])\n",
    "dst = cv.warpAffine(img,M,(cols,rows))\n",
    "\n",
    "cv.imshow('img',dst)\n",
    "cv.waitKey(0)\n",
    "cv.destroyAllWindows()"
   ]
  },
  {
   "cell_type": "markdown",
   "metadata": {},
   "source": [
    "### Rotation"
   ]
  },
  {
   "cell_type": "code",
   "execution_count": 71,
   "metadata": {},
   "outputs": [],
   "source": [
    "# Rotation about 90 anti-clock wise\n",
    "\n",
    "img2rotate = cv.imread('roi.jpg')\n",
    "assert img is not None, \"file could not be read, check with os.path.exists()\"\n",
    "\n",
    "res = cv.cvtColor(img2rotate,cv.COLOR_BGR2GRAY)\n",
    "\n",
    "rows,cols = res.shape\n",
    "\n",
    "M = cv.getRotationMatrix2D(((cols-1)/2, (rows-1)/2),90,1) # Center will be the centre pixel of the Image\n",
    "dst = cv.warpAffine(img,M,(cols,rows))\n",
    "\n",
    "cv.imshow(\"Rotated Image\",dst)\n",
    "cv.waitKey(0)\n",
    "cv.destroyAllWindows()"
   ]
  },
  {
   "cell_type": "markdown",
   "metadata": {},
   "source": [
    "### Thresholding \n",
    "\n",
    "We need threshold for to convert the gray scaled images to complete binary image\n",
    "\n",
    "There are types of thresholding\n",
    "\n",
    "**Simple Thresholding**\n",
    "\n",
    " - **`cv.THRESH_BINARY`**: Converts all the pixels above the given threshold to `1` or `255` and `0` or `0` to the pixels below the threshold. \n",
    "- **`cv.THRESH_BINARY_INV`**: Converts all the pixels above the given threshold to `0` or `255` and `1` or `0` to the pixels below the threshold. \n",
    "\n",
    "Simple thresholding methods are inefficient for images with different lighting condition as we cannot apply the same threshold for the every pixel in the image. "
   ]
  },
  {
   "cell_type": "markdown",
   "metadata": {},
   "source": [
    "### Adaptive Thresholding\n",
    "\n",
    "In the previous section, we used one global value as a threshold. But this might not be good in all cases, e.g. if an image has different lighting conditions in different areas. In that case, adaptive thresholding can help. Here, the algorithm determines the threshold for a pixel based on a small region around it. So we get different thresholds for different regions of the same image which gives better results for images with varying illumination.\n",
    "\n",
    "<img src='./Notes_Images/thresh.png'>\n",
    "\n",
    "In the above image we're trying to make the digits of the sudoku game visible using simple threshold. We are using `cv.THRESH_BINARY_INV` but if we notice due to color variation the image is bit noisy. It is because we are applying `thresh` to each pixel. \n",
    "\n",
    "For better performance we can use adaptive thresholding like `cv.ADAPTIVE_THRESH_MEAN_C` and `cv.ADAPTIVE_THRESH_GAUSSIAN_C`\n",
    "\n",
    "**`cv.ADAPTIVE_THRESH_MEAN_C`**: The threshold value is the mean of the neighbourhood area minus the constant `C`.\n",
    "**`cv.ADAPTIVE_THRESH_GAUSSIAN_C:`** The threshold value is a gaussian-weighted sum of the neighbourhood values minus the constant `C`.\n",
    "\n",
    "The `blockSize` determines the size of the neighbourhood area and C is a constant that is subtracted from the mean or weighted sum of the neighbourhood pixels."
   ]
  },
  {
   "cell_type": "code",
   "execution_count": 122,
   "metadata": {},
   "outputs": [],
   "source": [
    "# Simple threshold methods\n",
    "\n",
    "test_img = cv.imread('sudoku.jpg',cv.IMREAD_GRAYSCALE)\n",
    "\n",
    "ret,thresh1 = cv.threshold(test_img,70,255,cv.THRESH_BINARY_INV)\n",
    "\n",
    "# cv.imwrite(test_img)\n",
    "\n",
    "cv.imshow('Grey Scaled',test_img)\n",
    "cv.imshow('After Thresh',thresh1)\n",
    "cv.waitKey(0)\n",
    "cv.destroyAllWindows()"
   ]
  },
  {
   "cell_type": "markdown",
   "metadata": {},
   "source": [
    "### Adaptive Thresholding"
   ]
  },
  {
   "cell_type": "code",
   "execution_count": 212,
   "metadata": {},
   "outputs": [],
   "source": [
    "# Simple threshold methods\n",
    "\n",
    "test_img = cv.imread('sudoku.jpg',cv.IMREAD_GRAYSCALE)\n",
    "\n",
    "# test_img = cv.medianBlur(test_img,5) # Increases the overall pixel value except border area\n",
    "\n",
    "test_img = cv.GaussianBlur(test_img, (11,11), 0) # Gussian Blue is Best\n",
    "\n",
    "ret,thresh1 = cv.threshold(test_img,120,255,cv.THRESH_BINARY) # Due increase in pixel values we need high threshold, making it inefficient after noise removed\n",
    "\n",
    "th2 = cv.adaptiveThreshold(test_img,255,cv.ADAPTIVE_THRESH_GAUSSIAN_C,cv.THRESH_BINARY,7,2) # Gussian\n",
    "\n",
    "th3 = cv.adaptiveThreshold(test_img,255,cv.ADAPTIVE_THRESH_MEAN_C,cv.THRESH_BINARY,5,2) # Mean\n",
    "\n",
    "cv.imshow('Grey Scaled',test_img)\n",
    "cv.imshow('After Thresh',thresh1)\n",
    "cv.imshow('After Thresh2',th2)\n",
    "cv.imshow('After Thresh3',th3)\n",
    "\n",
    "cv.waitKey(0)\n",
    "cv.destroyAllWindows()"
   ]
  },
  {
   "cell_type": "markdown",
   "metadata": {},
   "source": [
    "### Special Notes for Adaptive Thresholding\n",
    "\n",
    "When we use `cv.GaussianBlur` to reduce the image noise after gray scaling the image the performance of the adaptive thresholding like `ADAPTIVE_THRESH_GAUSSIAN_C` and `ADAPTIVE_THRESH_MEAN_C` increases. "
   ]
  },
  {
   "cell_type": "code",
   "execution_count": null,
   "metadata": {},
   "outputs": [],
   "source": [
    "# Otsu's Binarization\n",
    "\n",
    "test_img = cv.imread('sudoku.jpg',cv.IMREAD_GRAYSCALE)\n",
    "\n",
    "# test_img = cv.medianBlur(test_img,5) # Increases the overall pixel value except border area\n",
    "\n",
    "test_img = cv.GaussianBlur(test_img, (11,11), 0) # Gussian Blue is Best\n",
    "\n",
    "ret,thresh1 = cv.threshold(test_img,120,255,cv.THRESH_BINARY+cv.THRESH_OTSU) # Otsu's performance is same\n",
    "\n",
    "th2 = cv.adaptiveThreshold(test_img,255,cv.ADAPTIVE_THRESH_GAUSSIAN_C,cv.THRESH_BINARY,7,2) #a Gussian\n",
    "\n",
    "# th3 = cv.adaptiveThreshold(test_img,255,cv.ADAPTIVE_THRESH_MEAN_C,cv.THRESH_BINARY,5,2) # Mean\n",
    "\n",
    "cv.imshow('Grey Scaled',test_img)\n",
    "cv.imshow('After Thresh',thresh1)\n",
    "cv.imshow('After Thresh2',th2)\n",
    "# cv.imshow('After Thresh3',th3)\n",
    "\n",
    "cv.waitKey(0)\n",
    "cv.destroyAllWindows()"
   ]
  }
 ],
 "metadata": {
  "kernelspec": {
   "display_name": "env",
   "language": "python",
   "name": "python3"
  },
  "language_info": {
   "codemirror_mode": {
    "name": "ipython",
    "version": 3
   },
   "file_extension": ".py",
   "mimetype": "text/x-python",
   "name": "python",
   "nbconvert_exporter": "python",
   "pygments_lexer": "ipython3",
   "version": "3.11.9"
  }
 },
 "nbformat": 4,
 "nbformat_minor": 2
}
