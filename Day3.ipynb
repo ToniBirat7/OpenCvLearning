{
 "cells": [
  {
   "cell_type": "markdown",
   "metadata": {},
   "source": [
    "## Geometric Transformations of Images\n",
    "\n",
    "[Link](https://docs.opencv.org/4.x/da/d6e/tutorial_py_geometric_transformations.html)\n",
    "\n",
    "### Transformation\n",
    "\n",
    "OpenCv provides two functions with which we can perform all kinds of transformation in the images i.e.\n",
    "\n",
    "#### Transformation Functions\n",
    "\n",
    "**`cv.warpAffine`**: It takes `2x3` matrix\n",
    "\n",
    "**`cv.warpPerspective`**: It takes `3x3` matrix\n",
    "\n",
    "### Scaling \n",
    "\n",
    "Scaling is just resizing of the image.\n",
    "\n",
    "#### Scaling Function\n",
    "\n",
    "**`cv.resize`** : For resizing the image\n",
    "\n",
    "**Different Interpolation Method**\n",
    "\n",
    "  - **`cv.INTER_AREA`** : For shrinking\n",
    "  - **`cv.INTER_CUBIC`** : For zooming 16 neighbours pixels average better.\n",
    "  - **`cv.INTER_LINEAR`** : For zooming only 4 neighbours pixels average\n",
    "\n",
    "### Translation\n",
    "\n",
    "Translation is the shifting of an object's location. If you know the shift in the (x,y) direction and let it be (*t<sub>x</sub>,t<sub>y</sub>*), you can create the transformation matrix as follows:\n",
    "\n",
    "<img src='./Notes_Images/Mat.png' width=200 height=200>\n"
   ]
  },
  {
   "cell_type": "markdown",
   "metadata": {},
   "source": [
    "### Scaling\n"
   ]
  },
  {
   "cell_type": "code",
   "execution_count": 1,
   "metadata": {},
   "outputs": [],
   "source": [
    "import numpy as np\n",
    "import cv2 as cv"
   ]
  },
  {
   "cell_type": "code",
   "execution_count": 2,
   "metadata": {},
   "outputs": [],
   "source": [
    "img = cv.imread('roi.jpg')\n",
    "assert img is not None, \"file could not be read, check with os.path.exists()\"\n",
    "\n",
    "res = cv.resize(img,None,fx=0.5,fy=0.5, interpolation=cv.INTER_AREA) # Two times width, height\n",
    "\n",
    "cv.imshow(\"Non Scaled\", img)\n",
    "cv.imshow(\"Scaled\",res)\n",
    "cv.waitKey(0)\n",
    "cv.destroyAllWindows()"
   ]
  },
  {
   "cell_type": "markdown",
   "metadata": {},
   "source": [
    "### Translation using 2x3 Transformation Matrix\n",
    "\n",
    "<img src='./Notes_Images/translate1.png' width=600 height=600>\n",
    "<img src='./Notes_Images/translate2.png' width=600 height=600>\n",
    "<img src='./Notes_Images/translate3.png' width=600 height=600>\n"
   ]
  },
  {
   "cell_type": "code",
   "execution_count": 8,
   "metadata": {},
   "outputs": [],
   "source": [
    "# Translate using 2x3 \n",
    "\n",
    "import numpy as np\n",
    "import cv2 as cv\n",
    " \n",
    "img = cv.imread('roi.jpg', cv.IMREAD_GRAYSCALE)\n",
    "assert img is not None, \"file could not be read, check with os.path.exists()\"\n",
    "rows,cols = img.shape\n",
    " \n",
    "M = np.float32([[1,0,100],[0,1,50]])\n",
    "dst = cv.warpAffine(img,M,(cols,rows))\n",
    "\n",
    "cv.imshow('img',dst)\n",
    "cv.waitKey(0)\n",
    "cv.destroyAllWindows()"
   ]
  },
  {
   "cell_type": "markdown",
   "metadata": {},
   "source": [
    "### Continue with 3x3 Matrix......"
   ]
  }
 ],
 "metadata": {
  "kernelspec": {
   "display_name": "env",
   "language": "python",
   "name": "python3"
  },
  "language_info": {
   "codemirror_mode": {
    "name": "ipython",
    "version": 3
   },
   "file_extension": ".py",
   "mimetype": "text/x-python",
   "name": "python",
   "nbconvert_exporter": "python",
   "pygments_lexer": "ipython3",
   "version": "3.11.9"
  }
 },
 "nbformat": 4,
 "nbformat_minor": 2
}
