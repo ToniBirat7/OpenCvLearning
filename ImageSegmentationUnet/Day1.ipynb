{
 "cells": [
  {
   "cell_type": "markdown",
   "metadata": {},
   "source": [
    "### **Resources**\n",
    "\n",
    "[Image Segmentation Playlist](https://www.youtube.com/playlist?list=PL2zRqk16wsdop2EatuowXBX5C-r2FdyNt)\n",
    "\n",
    "[UNet Playlist](https://www.youtube.com/watch?v=azM57JuQpQI&list=PLZsOBAyNTZwbR08R959iCvYT3qzhxvGOE)\n",
    "\n",
    "[First Principle of Computer Vision](https://www.youtube.com/@firstprinciplesofcomputerv3258/playlists)\n",
    "\n",
    "## Image Segmentation\n",
    "\n",
    "Given an Image and partition of the image into regions and segments is Image Segmentation. \n",
    "\n",
    "In real world images we've variety of pixels within it. We must need to segment section or region of the image. \n",
    "\n",
    "The main principle behind image segmentation is to group pixels with similar visual characteristics. We can call it as `clustering problem`.\n",
    "\n",
    "Also, segmentation is subjective i.e. differs from person to person.\n",
    "\n",
    "**Working of Image Segmentation**\n",
    "\n",
    "<img src='../Notes_Images/seg1.png'>\n",
    "\n",
    "<img src='../Notes_Images/seg2.png'>\n",
    "\n",
    "We plot the 3D graph for the RGB values with other features as well such as position and brightness. Then we calculated the `euclidean difference` between points to find the similarity and create different clusters. Later, we plot the average of that specific clusters for all the values of the cluster. \n",
    "\n",
    "The above pictures uses `K-Means Clustering` to find the cluster and then apply the segmentation.\n",
    "\n",
    "### **Types of Image Segmentation**\n",
    "\n",
    "**Binary Segmentation** : We find the threshold for the grey scale image using Histogram and apply the threshold.\n",
    "\n",
    "**Contour Segmentation** : Contour that latches it to the border of the object. \n",
    "\n",
    "**K-Means Segmentation**\n",
    "\n",
    "**Mean Shift Segmentation**\n",
    "\n",
    "**Graph Cut Segmentation**\n",
    "\n",
    "### **UNet Architecture** \n",
    "\n",
    "CNN architecture used for image segmentation particularly in biomedical imaging. \n",
    "\n",
    "#### **Why U-Net?**\n",
    "\n",
    "Traditional CNNs excel in classification tasks but struggle with pixel-level tasks like segmentation, where each pixel needs to be assigned a specific class. U-Net solves this problem by using an **encoder**-**decoder** architecture that captures both high-level features and detailed spatial information.\n",
    "\n",
    "#### **Architecture**\n",
    "\n",
    "<img src='../Notes_Images/unet1.png'>\n",
    "\n"
   ]
  }
 ],
 "metadata": {
  "kernelspec": {
   "display_name": "env",
   "language": "python",
   "name": "python3"
  },
  "language_info": {
   "name": "python",
   "version": "3.11.9"
  }
 },
 "nbformat": 4,
 "nbformat_minor": 2
}
