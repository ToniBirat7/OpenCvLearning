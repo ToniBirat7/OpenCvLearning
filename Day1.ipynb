{
 "cells": [
  {
   "cell_type": "code",
   "execution_count": 11,
   "metadata": {},
   "outputs": [
    {
     "name": "stdout",
     "output_type": "stream",
     "text": [
      "True\n"
     ]
    }
   ],
   "source": [
    "\n",
    "import numpy as np\n",
    "import cv2 as cv\n",
    "\n",
    "# x = np.uint8([[250]])\n",
    "# y = np.uint8([[10]])\n",
    "\n",
    "# print(x.ndim)\n",
    "\n",
    "# print( cv2.add(x,y) )\n",
    "\n",
    "# print( x+y )   \n",
    "\n",
    "cv.setUseOptimized(True)\n",
    "\n",
    "print(cv.useOptimized())\n",
    "\n",
    "# %timeit y=2**2"
   ]
  }
 ],
 "metadata": {
  "kernelspec": {
   "display_name": "env",
   "language": "python",
   "name": "python3"
  },
  "language_info": {
   "codemirror_mode": {
    "name": "ipython",
    "version": 3
   },
   "file_extension": ".py",
   "mimetype": "text/x-python",
   "name": "python",
   "nbconvert_exporter": "python",
   "pygments_lexer": "ipython3",
   "version": "3.11.9"
  }
 },
 "nbformat": 4,
 "nbformat_minor": 2
}
